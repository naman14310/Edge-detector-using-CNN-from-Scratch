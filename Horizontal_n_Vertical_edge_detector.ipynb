{
 "cells": [
  {
   "cell_type": "code",
   "execution_count": 5,
   "metadata": {
    "collapsed": true
   },
   "outputs": [],
   "source": [
    "import cv2\n",
    "import numpy as np\n",
    "from matplotlib import pyplot as plt\n",
    "img=cv2.imread('/home/lenovo/jupyter-notebook-workspace/vertical.png')\n",
    "#img=cv2.imread('v4.jpg' , 0) another method for rgb to gray conversion"
   ]
  },
  {
   "cell_type": "code",
   "execution_count": 6,
   "metadata": {
    "collapsed": false
   },
   "outputs": [
    {
     "data": {
      "text/plain": [
       "(679, 679, 3)"
      ]
     },
     "execution_count": 6,
     "metadata": {},
     "output_type": "execute_result"
    }
   ],
   "source": [
    "img.shape"
   ]
  },
  {
   "cell_type": "code",
   "execution_count": 7,
   "metadata": {
    "collapsed": false
   },
   "outputs": [],
   "source": [
    "gray_image = cv2.cvtColor(img, cv2.COLOR_BGR2GRAY)"
   ]
  },
  {
   "cell_type": "code",
   "execution_count": 8,
   "metadata": {
    "collapsed": false
   },
   "outputs": [
    {
     "name": "stdout",
     "output_type": "stream",
     "text": [
      "[196 196 196 196 196 196 196 196 196 196 196 196 196 196 196 196 196 196\n",
      " 196 196 196 196 196 196 196 196 196 196 196 196 196 196 196 196 196 196\n",
      " 196 196 196 196 196 196 196 196 196 196 196 196 196 196 196 196 196 196\n",
      " 196 196 196 196 196 196 196 196 196 196 196 196 196 196 196 196 196 196\n",
      " 196 196 196 196 196 196 196 196 196 196 196 196 196 196 196 196 196 196\n",
      " 196 196 196 196 196 196 196 196 196 196 196 196 196 196 196 196 196 196\n",
      " 196 196 196 196 196 196 196 196 196 196 196 196 196 196 196 196 196 196\n",
      " 196 196 196 196 196 196 196 196 196 196 196 196 196 196 196 196 196 196\n",
      " 196 196 196 196 196 196 196 196 196 196 196 196 196 196 196 196 196 196\n",
      " 196 196 196 196 196 196 196 196 196 196 196 196 196 196 196 196 196 196\n",
      " 196 196 196 196 196 196 196 196 196 196 196 196 196 196 196 196 196 196\n",
      " 196 196 196 196 196 196 196 196 196 196 196 196 196 196 196 196 196 196\n",
      " 196 196 196 196 196 196 196 196 196 196 196 196 196 196 196  42  42  42\n",
      "  42  42  42  42  42  42  42  42  42  42  42  42  42  42  42  42  42  42\n",
      "  42  42  42  42  42  42  42  42  42  42  42  42  42  42  42  42  42  42\n",
      "  42  42  42  42  42  42  42  42  42  42  42  42  42  42  42  42  42  42\n",
      "  42  42  42  42  42  42  42  42  42  42  42  42  42  42  42  42  42  42\n",
      "  42  42  42  42  42  42  42  42  42  42  42  42  42  42  42  42  42  42\n",
      "  42  42  42  42  42  42  42  42  42  42  42  42  42  42  42  42  42  42\n",
      "  42  42  42  42  42  42  42  42  42  42  42  42  42  42  42  42  42  42\n",
      "  42  42  42  42  42  42  42  42  42  42  42  42  42  42  42  42  42  42\n",
      "  42  42  42  42  42  42  42  42  42  42  42  42  42  42  42  42  42  42\n",
      "  42  42  42  42  42  42  42  42  42  42  42  42  42  42  42  42  42  42\n",
      "  42  42  42  42  42  42  42  42  42  42  42  42  42  42  42  42  42  42\n",
      "  42  42  42  42  42  42  42  42  42  42  42  42  42  42  42  42  42 196\n",
      " 196 196 196 196 196 196 196 196 196 196 196 196 196 196 196 196 196 196\n",
      " 196 196 196 196 196 196 196 196 196 196 196 196 196 196 196 196 196 196\n",
      " 196 196 196 196 196 196 196 196 196 196 196 196 196 196 196 196 196 196\n",
      " 196 196 196 196 196 196 196 196 196 196 196 196 196 196 196 196 196 196\n",
      " 196 196 196 196 196 196 196 196 196 196 196 196 196 196 196 196 196 196\n",
      " 196 196 196 196 196 196 196 196 196 196 196 196 196 196 196 196 196 196\n",
      " 196 196 196 196 196 196 196 196 196 196 196 196 196 196 196 196 196 196\n",
      " 196 196 196 196 196 196 196 196 196 196 196 196 196 196 196 196 196 196\n",
      " 196 196 196 196 196 196 196 196 196 196 196 196 196 196 196 196 196 196\n",
      " 196 196 196 196 196 196 196 196 196 196 196 196 196 196 196 196 196 196\n",
      " 196 196 196 196 196 196 196 196 196 196 196 196 196 196 196 196 196 196\n",
      " 196 196 196 196 196 196 196 196 196 196 196 196 196 196 196 196 196 196\n",
      " 196 196 196 196 196 196 196 196 196 196 196 196 196]\n"
     ]
    }
   ],
   "source": [
    "gray_image.shape\n",
    "n = len(gray_image[0])\n",
    "print(gray_image[0])"
   ]
  },
  {
   "cell_type": "code",
   "execution_count": 9,
   "metadata": {
    "collapsed": true
   },
   "outputs": [],
   "source": [
    "filter_matrix = [[1,1,1],[0,0,0],[-1,-1,-1]]\n",
    "#filter_matrix = [[-1,0,1],[-1,0,1],[-1,0,1]] for vertical edge detector\n",
    "size_of_filter = 3\n",
    "stride = 1\n",
    "padding_size = 5"
   ]
  },
  {
   "cell_type": "code",
   "execution_count": 10,
   "metadata": {
    "collapsed": false
   },
   "outputs": [],
   "source": [
    "def convolution(matrix1,matrix2):\n",
    "    w = 0\n",
    "    for i in range(size_of_filter):\n",
    "        for j in range(size_of_filter):\n",
    "            w+=matrix1[i][j]*matrix2[i][j]\n",
    "    return w"
   ]
  },
  {
   "cell_type": "code",
   "execution_count": 11,
   "metadata": {
    "collapsed": true
   },
   "outputs": [],
   "source": [
    "def add_padding(matrix,padding_size):\n",
    "    for p in range(padding_size):\n",
    "        black = np.zeros((1,matrix.shape[1]),dtype='uint8')\n",
    "        matrix = np.append(matrix,black , axis=0)\n",
    "        matrix = np.append(black,matrix , axis=0)\n",
    "        black = np.zeros((matrix.shape[0],1),dtype='uint8')\n",
    "        matrix = np.append(matrix,black , axis=1)\n",
    "        matrix = np.append(black,matrix , axis=1)\n",
    "        \n",
    "    return matrix\n",
    "        \n",
    "        "
   ]
  },
  {
   "cell_type": "code",
   "execution_count": 12,
   "metadata": {
    "collapsed": false
   },
   "outputs": [],
   "source": [
    "if padding_size>0:\n",
    "    padded_image = add_padding(gray_image,padding_size)\n",
    "else:\n",
    "    padded_image = gray_image\n",
    "    \n",
    "n = len(padded_image[0])\n",
    "\n",
    "reduced_matrix = list()\n",
    "\n",
    "for i in range(n-size_of_filter+1):\n",
    "    main_row = list()\n",
    "    for j in range(n-size_of_filter+1):\n",
    "        temp_matrix = list()\n",
    "        for r in range(size_of_filter):\n",
    "            row = list()\n",
    "            for s in range(size_of_filter):\n",
    "                row.append(padded_image[i+r][j+s])  \n",
    "            temp_matrix.append(row)\n",
    "        ans = convolution(temp_matrix,filter_matrix)\n",
    "        main_row.append(ans)\n",
    "    reduced_matrix.append(main_row)\n",
    "            \n",
    "    \n",
    "        \n",
    "        \n",
    "    "
   ]
  },
  {
   "cell_type": "code",
   "execution_count": 13,
   "metadata": {
    "collapsed": false
   },
   "outputs": [],
   "source": [
    "new_img = np.array(reduced_matrix, dtype='uint8')"
   ]
  },
  {
   "cell_type": "code",
   "execution_count": 14,
   "metadata": {
    "collapsed": false
   },
   "outputs": [
    {
     "data": {
      "text/plain": [
       "(687, 687)"
      ]
     },
     "execution_count": 14,
     "metadata": {},
     "output_type": "execute_result"
    }
   ],
   "source": [
    "new_img.shape"
   ]
  },
  {
   "cell_type": "code",
   "execution_count": 15,
   "metadata": {
    "collapsed": false
   },
   "outputs": [],
   "source": [
    "cv2.namedWindow('new_img')\n",
    "cv2.imshow('gray_image',gray_image)\n",
    "cv2.imshow('new_img',new_img)\n",
    "cv2.waitKey(0)\n",
    "cv2.destroyAllWindows()"
   ]
  },
  {
   "cell_type": "code",
   "execution_count": null,
   "metadata": {
    "collapsed": true
   },
   "outputs": [],
   "source": []
  }
 ],
 "metadata": {
  "kernelspec": {
   "display_name": "Python 3",
   "language": "python",
   "name": "python3"
  },
  "language_info": {
   "codemirror_mode": {
    "name": "ipython",
    "version": 3
   },
   "file_extension": ".py",
   "mimetype": "text/x-python",
   "name": "python",
   "nbconvert_exporter": "python",
   "pygments_lexer": "ipython3",
   "version": "3.6.8"
  }
 },
 "nbformat": 4,
 "nbformat_minor": 2
}
